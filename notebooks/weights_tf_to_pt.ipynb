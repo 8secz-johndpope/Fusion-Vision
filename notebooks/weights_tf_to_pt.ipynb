{
  "cells": [
    {
      "cell_type": "markdown",
      "metadata": {
        "id": "view-in-github",
        "colab_type": "text"
      },
      "source": [
        "<a href=\"https://colab.research.google.com/github/sdhnshu/Fusion-Vision/blob/master/notebooks/weights_tf_to_pt.ipynb\" target=\"_parent\"><img src=\"https://colab.research.google.com/assets/colab-badge.svg\" alt=\"Open In Colab\"/></a>"
      ]
    },
    {
      "cell_type": "markdown",
      "metadata": {
        "id": "sxKv2ag6Xd4z",
        "colab_type": "text"
      },
      "source": [
        "# Weight conversion\n",
        "\n",
        "This notebook helps you download pretrained models trained using the [official StyleGAN2 repo](https://github.com/NVlabs/stylegan2) (or almost similar architecture) and convert them to suit the [pytorch implementation used in Fusion Vision](https://github.com/sdhnshu/Fusion-Vision)\n",
        "\n",
        "*Requires GPU instance"
      ]
    },
    {
      "cell_type": "markdown",
      "metadata": {
        "id": "vkKDqFDVXYtH",
        "colab_type": "text"
      },
      "source": [
        "## Setup"
      ]
    },
    {
      "cell_type": "code",
      "metadata": {
        "id": "uZxeYcAR3a96",
        "colab_type": "code",
        "colab": {}
      },
      "source": [
        "!git clone https://github.com/sdhnshu/Fusion-Vision\n",
        "!git clone https://github.com/NVlabs/stylegan2\n",
        "!pip install ninja"
      ],
      "execution_count": null,
      "outputs": []
    },
    {
      "cell_type": "markdown",
      "metadata": {
        "id": "Vw9l5rcMYffJ",
        "colab_type": "text"
      },
      "source": [
        "## Download tf checkpoints"
      ]
    },
    {
      "cell_type": "code",
      "metadata": {
        "id": "ivnpW8RE4-X8",
        "colab_type": "code",
        "colab": {}
      },
      "source": [
        "%cd /content\n",
        "\n",
        "!gdown --id 1YzZemZAp7BVW701_BZ7uabJWJJaS2g7v -O abstract-art.pkl\n",
        "!gdown --id 1_4DSLk7gghEiGvK6fT9uK92PefGY3z-J -O anime.pkl\n",
        "!gdown --id 1taUa114_BqhaF-2wggnYcPew2VjPEoWE -O microscopic.pkl\n",
        "!gdown --id 1chriWN3RqNp4TUhkkrP2Al1BxBqGnXcE -O modernart.pkl\n",
        "!gdown --id 12yYXZymadSIj74Yue1Q7RrlbIqrXggo3 -O trypophobia.pkl\n",
        "!gdown --id 1FUTClNmlkbhBGgDRkFCkUcWKZ_l0Ts-E -O wildlife.pkl\n",
        "!wget http://d36zk2xti64re0.cloudfront.net/stylegan2/networks/stylegan2-ffhq-config-f.pkl\n",
        "!wget https://battle.shawwn.com/sdc/stylegan2-imagenet-512/model.ckpt-533504.pkl -O imagenet.pkl\n",
        "!wget http://d36zk2xti64re0.cloudfront.net/stylegan2/networks/stylegan2-car-config-f.pkl\n",
        "!wget http://d36zk2xti64re0.cloudfront.net/stylegan2/networks/stylegan2-cat-config-f.pkl\n",
        "!wget http://d36zk2xti64re0.cloudfront.net/stylegan2/networks/stylegan2-church-config-f.pkl\n",
        "!wget http://d36zk2xti64re0.cloudfront.net/stylegan2/networks/stylegan2-horse-config-f.pkl\n",
        "\n",
        "# Issues converting\n",
        "# !gdown --id 13dTNlKDlgcIsCaPxMqX7luYqOo-lwPwk -O cakes.pkl  \n",
        "# !wget https://archive.org/download/mapdreamer/mapdreamer.pkl\n",
        "# !wget https://archive.org/download/wikiart-stylegan2-conditional-model/network-snapshot-012052.pkl -O wikiart.pkl"
      ],
      "execution_count": null,
      "outputs": []
    },
    {
      "cell_type": "markdown",
      "metadata": {
        "id": "CVeF6SQXYkpl",
        "colab_type": "text"
      },
      "source": [
        "## Convert to torch checkpoints"
      ]
    },
    {
      "cell_type": "code",
      "metadata": {
        "id": "BYgFBAVV32SB",
        "colab_type": "code",
        "colab": {}
      },
      "source": [
        "%tensorflow_version 1.x\n",
        "%cd /content/Fusion-Vision/stylegan2\n",
        "\n",
        "!python convert_weight.py --repo /content/stylegan2 /content/abstract-art.pkl\n",
        "!python convert_weight.py --repo /content/stylegan2 /content/microscopic.pkl\n",
        "!python convert_weight.py --repo /content/stylegan2 /content/anime.pkl\n",
        "!python convert_weight.py --repo /content/stylegan2 /content/modernart.pkl\n",
        "!python convert_weight.py --repo /content/stylegan2 /content/imagenet.pkl\n",
        "!python convert_weight.py --repo /content/stylegan2 /content/trypophobia.pkl\n",
        "!python convert_weight.py --repo /content/stylegan2 /content/wildlife.pkl\n",
        "!python convert_weight.py --repo /content/stylegan2 /content/stylegan2-ffhq-config-f.pkl\n",
        "!python convert_weight.py --repo /content/stylegan2 /content/stylegan2-car-config-f.pkl\n",
        "!python convert_weight.py --repo /content/stylegan2 /content/stylegan2-cat-config-f.pkl\n",
        "!python convert_weight.py --repo /content/stylegan2 /content/stylegan2-church-config-f.pkl\n",
        "!python convert_weight.py --repo /content/stylegan2 /content/stylegan2-horse-config-f.pkl"
      ],
      "execution_count": null,
      "outputs": []
    },
    {
      "cell_type": "markdown",
      "metadata": {
        "id": "zDsVPc-FYuVV",
        "colab_type": "text"
      },
      "source": [
        "## Connect gdrive and copy converted checkpoints"
      ]
    },
    {
      "cell_type": "code",
      "metadata": {
        "id": "rYm24zJDD1Sh",
        "colab_type": "code",
        "colab": {
          "base_uri": "https://localhost:8080/",
          "height": 124
        },
        "outputId": "4d080330-37bb-4817-93e5-564bef7b673d"
      },
      "source": [
        "from google.colab import drive\n",
        "drive.mount('/gdrive')"
      ],
      "execution_count": 5,
      "outputs": [
        {
          "output_type": "stream",
          "text": [
            "Go to this URL in a browser: https://accounts.google.com/o/oauth2/auth?client_id=947318989803-6bn6qk8qdgf4n4g3pfee6491hc0brc4i.apps.googleusercontent.com&redirect_uri=urn%3aietf%3awg%3aoauth%3a2.0%3aoob&response_type=code&scope=email%20https%3a%2f%2fwww.googleapis.com%2fauth%2fdocs.test%20https%3a%2f%2fwww.googleapis.com%2fauth%2fdrive%20https%3a%2f%2fwww.googleapis.com%2fauth%2fdrive.photos.readonly%20https%3a%2f%2fwww.googleapis.com%2fauth%2fpeopleapi.readonly\n",
            "\n",
            "Enter your authorization code:\n",
            "··········\n",
            "Mounted at /gdrive\n"
          ],
          "name": "stdout"
        }
      ]
    },
    {
      "cell_type": "code",
      "metadata": {
        "id": "8gNHyxysD1RM",
        "colab_type": "code",
        "colab": {}
      },
      "source": [
        "!cp /content/Fusion-Vision/stylegan2/checkpoint/* /gdrive/My\\ Drive/stylegan2-ckpt/"
      ],
      "execution_count": 18,
      "outputs": []
    },
    {
      "cell_type": "code",
      "metadata": {
        "id": "vvYRCmIPXJpq",
        "colab_type": "code",
        "colab": {}
      },
      "source": [
        ""
      ],
      "execution_count": null,
      "outputs": []
    }
  ],
  "metadata": {
    "colab": {
      "name": "weights tf to pt.ipynb",
      "provenance": [],
      "collapsed_sections": [],
      "toc_visible": true,
      "authorship_tag": "ABX9TyPk8nVUk6jmx2lQBIymxOQt",
      "include_colab_link": true
    },
    "kernelspec": {
      "name": "python3",
      "display_name": "Python 3"
    },
    "accelerator": "GPU"
  },
  "nbformat": 4,
  "nbformat_minor": 0
}