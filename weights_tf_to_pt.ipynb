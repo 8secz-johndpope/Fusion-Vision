{
  "nbformat": 4,
  "nbformat_minor": 0,
  "metadata": {
    "colab": {
      "name": "weights tf to pt.ipynb",
      "provenance": [],
      "collapsed_sections": [],
      "authorship_tag": "ABX9TyN3ZDTYLo/maJqJfkgUrRsw",
      "include_colab_link": true
    },
    "kernelspec": {
      "name": "python3",
      "display_name": "Python 3"
    },
    "accelerator": "GPU"
  },
  "cells": [
    {
      "cell_type": "markdown",
      "metadata": {
        "id": "view-in-github",
        "colab_type": "text"
      },
      "source": [
        "<a href=\"https://colab.research.google.com/github/sdhnshu/Fusion-Vision/blob/dev/weights_tf_to_pt.ipynb\" target=\"_parent\"><img src=\"https://colab.research.google.com/assets/colab-badge.svg\" alt=\"Open In Colab\"/></a>"
      ]
    },
    {
      "cell_type": "code",
      "metadata": {
        "id": "uZxeYcAR3a96",
        "colab_type": "code",
        "colab": {
          "base_uri": "https://localhost:8080/",
          "height": 139
        },
        "outputId": "daa6ea9c-c501-4dae-9433-e005ddd088e4"
      },
      "source": [
        "!git clone https://github.com/sdhnshu/Fusion-Vision\n",
        "!git clone https://github.com/NVlabs/stylegan2\n",
        "%cd /content/Fusion-Vision/\n",
        "!git checkout dev"
      ],
      "execution_count": 1,
      "outputs": [
        {
          "output_type": "stream",
          "text": [
            "Cloning into 'Fusion-Vision'...\n",
            "remote: Enumerating objects: 185, done.\u001b[K\n",
            "remote: Counting objects:   0% (1/185)\u001b[K\rremote: Counting objects:   1% (2/185)\u001b[K\rremote: Counting objects:   2% (4/185)\u001b[K\rremote: Counting objects:   3% (6/185)\u001b[K\rremote: Counting objects:   4% (8/185)\u001b[K\rremote: Counting objects:   5% (10/185)\u001b[K\rremote: Counting objects:   6% (12/185)\u001b[K\rremote: Counting objects:   7% (13/185)\u001b[K\rremote: Counting objects:   8% (15/185)\u001b[K\rremote: Counting objects:   9% (17/185)\u001b[K\rremote: Counting objects:  10% (19/185)\u001b[K\rremote: Counting objects:  11% (21/185)\u001b[K\rremote: Counting objects:  12% (23/185)\u001b[K\rremote: Counting objects:  13% (25/185)\u001b[K\rremote: Counting objects:  14% (26/185)\u001b[K\rremote: Counting objects:  15% (28/185)\u001b[K\rremote: Counting objects:  16% (30/185)\u001b[K\rremote: Counting objects:  17% (32/185)\u001b[K\rremote: Counting objects:  18% (34/185)\u001b[K\rremote: Counting objects:  19% (36/185)\u001b[K\rremote: Counting objects:  20% (37/185)\u001b[K\rremote: Counting objects:  21% (39/185)\u001b[K\rremote: Counting objects:  22% (41/185)\u001b[K\rremote: Counting objects:  23% (43/185)\u001b[K\rremote: Counting objects:  24% (45/185)\u001b[K\rremote: Counting objects:  25% (47/185)\u001b[K\rremote: Counting objects:  26% (49/185)\u001b[K\rremote: Counting objects:  27% (50/185)\u001b[K\rremote: Counting objects:  28% (52/185)\u001b[K\rremote: Counting objects:  29% (54/185)\u001b[K\rremote: Counting objects:  30% (56/185)\u001b[K\rremote: Counting objects:  31% (58/185)\u001b[K\rremote: Counting objects:  32% (60/185)\u001b[K\rremote: Counting objects:  33% (62/185)\u001b[K\rremote: Counting objects:  34% (63/185)\u001b[K\rremote: Counting objects:  35% (65/185)\u001b[K\rremote: Counting objects:  36% (67/185)\u001b[K\rremote: Counting objects:  37% (69/185)\u001b[K\rremote: Counting objects:  38% (71/185)\u001b[K\rremote: Counting objects:  39% (73/185)\u001b[K\rremote: Counting objects:  40% (74/185)\u001b[K\rremote: Counting objects:  41% (76/185)\u001b[K\rremote: Counting objects:  42% (78/185)\u001b[K\rremote: Counting objects:  43% (80/185)\u001b[K\rremote: Counting objects:  44% (82/185)\u001b[K\rremote: Counting objects:  45% (84/185)\u001b[K\rremote: Counting objects:  46% (86/185)\u001b[K\rremote: Counting objects:  47% (87/185)\u001b[K\rremote: Counting objects:  48% (89/185)\u001b[K\rremote: Counting objects:  49% (91/185)\u001b[K\rremote: Counting objects:  50% (93/185)\u001b[K\rremote: Counting objects:  51% (95/185)\u001b[K\rremote: Counting objects:  52% (97/185)\u001b[K\rremote: Counting objects:  53% (99/185)\u001b[K\rremote: Counting objects:  54% (100/185)\u001b[K\rremote: Counting objects:  55% (102/185)\u001b[K\rremote: Counting objects:  56% (104/185)\u001b[K\rremote: Counting objects:  57% (106/185)\u001b[K\rremote: Counting objects:  58% (108/185)\u001b[K\rremote: Counting objects:  59% (110/185)\u001b[K\rremote: Counting objects:  60% (111/185)\u001b[K\rremote: Counting objects:  61% (113/185)\u001b[K\rremote: Counting objects:  62% (115/185)\u001b[K\rremote: Counting objects:  63% (117/185)\u001b[K\rremote: Counting objects:  64% (119/185)\u001b[K\rremote: Counting objects:  65% (121/185)\u001b[K\rremote: Counting objects:  66% (123/185)\u001b[K\rremote: Counting objects:  67% (124/185)\u001b[K\rremote: Counting objects:  68% (126/185)\u001b[K\rremote: Counting objects:  69% (128/185)\u001b[K\rremote: Counting objects:  70% (130/185)\u001b[K\rremote: Counting objects:  71% (132/185)\u001b[K\rremote: Counting objects:  72% (134/185)\u001b[K\rremote: Counting objects:  73% (136/185)\u001b[K\rremote: Counting objects:  74% (137/185)\u001b[K\rremote: Counting objects:  75% (139/185)\u001b[K\rremote: Counting objects:  76% (141/185)\u001b[K\rremote: Counting objects:  77% (143/185)\u001b[K\rremote: Counting objects:  78% (145/185)\u001b[K\rremote: Counting objects:  79% (147/185)\u001b[K\rremote: Counting objects:  80% (148/185)\u001b[K\rremote: Counting objects:  81% (150/185)\u001b[K\rremote: Counting objects:  82% (152/185)\u001b[K\rremote: Counting objects:  83% (154/185)\u001b[K\rremote: Counting objects:  84% (156/185)\u001b[K\rremote: Counting objects:  85% (158/185)\u001b[K\rremote: Counting objects:  86% (160/185)\u001b[K\rremote: Counting objects:  87% (161/185)\u001b[K\rremote: Counting objects:  88% (163/185)\u001b[K\rremote: Counting objects:  89% (165/185)\u001b[K\rremote: Counting objects:  90% (167/185)\u001b[K\rremote: Counting objects:  91% (169/185)\u001b[K\rremote: Counting objects:  92% (171/185)\u001b[K\rremote: Counting objects:  93% (173/185)\u001b[K\rremote: Counting objects:  94% (174/185)\u001b[K\rremote: Counting objects:  95% (176/185)\u001b[K\rremote: Counting objects:  96% (178/185)\u001b[K\rremote: Counting objects:  97% (180/185)\u001b[K\rremote: Counting objects:  98% (182/185)\u001b[K\rremote: Counting objects:  99% (184/185)\u001b[K\rremote: Counting objects: 100% (185/185)\u001b[K\rremote: Counting objects: 100% (185/185), done.\u001b[K\n",
            "remote: Compressing objects: 100% (136/136), done.\u001b[K\n",
            "remote: Total 185 (delta 45), reused 174 (delta 37), pack-reused 0\u001b[K\n",
            "Receiving objects: 100% (185/185), 49.06 MiB | 35.08 MiB/s, done.\n",
            "Resolving deltas: 100% (45/45), done.\n"
          ],
          "name": "stdout"
        }
      ]
    },
    {
      "cell_type": "code",
      "metadata": {
        "id": "XgHqmJeB9CiB",
        "colab_type": "code",
        "colab": {
          "base_uri": "https://localhost:8080/",
          "height": 208
        },
        "outputId": "c31ea77e-ecec-453e-b57c-5a657df5e0af"
      },
      "source": [
        "%cd /content/Fusion-Vision/\n",
        "!git pull"
      ],
      "execution_count": 18,
      "outputs": [
        {
          "output_type": "stream",
          "text": [
            "remote: Enumerating objects: 5, done.\u001b[K\n",
            "remote: Counting objects:  20% (1/5)\u001b[K\rremote: Counting objects:  40% (2/5)\u001b[K\rremote: Counting objects:  60% (3/5)\u001b[K\rremote: Counting objects:  80% (4/5)\u001b[K\rremote: Counting objects: 100% (5/5)\u001b[K\rremote: Counting objects: 100% (5/5), done.\u001b[K\n",
            "remote: Compressing objects: 100% (1/1)\u001b[K\rremote: Compressing objects: 100% (1/1), done.\u001b[K\n",
            "remote: Total 3 (delta 2), reused 3 (delta 2), pack-reused 0\u001b[K\n",
            "Unpacking objects:  33% (1/3)   \rUnpacking objects:  66% (2/3)   \rUnpacking objects: 100% (3/3)   \rUnpacking objects: 100% (3/3), done.\n",
            "From https://github.com/sdhnshu/Fusion-Vision\n",
            "   5f69e68..851d7f2  dev        -> origin/dev\n",
            "Updating 5f69e68..851d7f2\n",
            "Fast-forward\n",
            " convert_weight.py | 8 \u001b[32m+++++\u001b[m\u001b[31m---\u001b[m\n",
            " 1 file changed, 5 insertions(+), 3 deletions(-)\n"
          ],
          "name": "stdout"
        }
      ]
    },
    {
      "cell_type": "code",
      "metadata": {
        "id": "ivnpW8RE4-X8",
        "colab_type": "code",
        "colab": {
          "base_uri": "https://localhost:8080/",
          "height": 454
        },
        "outputId": "98ffa029-0394-4bc7-8680-fc893af3370d"
      },
      "source": [
        "%cd /content\n",
        "# !wget http://d36zk2xti64re0.cloudfront.net/stylegan2/networks/stylegan2-ffhq-config-f.pkl\n",
        "# !gdown --id 1YzZemZAp7BVW701_BZ7uabJWJJaS2g7v -O abstract-art.pkl\n",
        "# !wget https://archive.org/download/mapdreamer/mapdreamer.pkl\n",
        "# !gdown --id 1_4DSLk7gghEiGvK6fT9uK92PefGY3z-J -O anime.pkl\n",
        "# !gdown --id 1taUa114_BqhaF-2wggnYcPew2VjPEoWE -O microscopic.pkl\n",
        "# !gdown --id 1chriWN3RqNp4TUhkkrP2Al1BxBqGnXcE -O modernart.pkl"
      ],
      "execution_count": 5,
      "outputs": [
        {
          "output_type": "stream",
          "text": [
            "/content\n",
            "--2020-07-15 15:44:30--  http://d36zk2xti64re0.cloudfront.net/stylegan2/networks/stylegan2-ffhq-config-f.pkl\n",
            "Resolving d36zk2xti64re0.cloudfront.net (d36zk2xti64re0.cloudfront.net)... 13.227.220.138, 13.227.220.57, 13.227.220.159, ...\n",
            "Connecting to d36zk2xti64re0.cloudfront.net (d36zk2xti64re0.cloudfront.net)|13.227.220.138|:80... connected.\n",
            "HTTP request sent, awaiting response... 200 OK\n",
            "Length: 381673535 (364M) [application/x-www-form-urlencoded]\n",
            "Saving to: ‘stylegan2-ffhq-config-f.pkl’\n",
            "\n",
            "stylegan2-ffhq-conf 100%[===================>] 363.99M   101MB/s    in 3.6s    \n",
            "\n",
            "2020-07-15 15:44:33 (101 MB/s) - ‘stylegan2-ffhq-config-f.pkl’ saved [381673535/381673535]\n",
            "\n",
            "Downloading...\n",
            "From: https://drive.google.com/uc?id=1YzZemZAp7BVW701_BZ7uabJWJJaS2g7v\n",
            "To: /content/abstract-art.pkl\n",
            "382MB [00:05, 73.5MB/s]\n",
            "Downloading...\n",
            "From: https://drive.google.com/uc?id=1taUa114_BqhaF-2wggnYcPew2VjPEoWE\n",
            "To: /content/microscopic.pkl\n",
            "364MB [00:06, 53.6MB/s]\n",
            "Downloading...\n",
            "From: https://drive.google.com/uc?id=1chriWN3RqNp4TUhkkrP2Al1BxBqGnXcE\n",
            "To: /content/modernart.pkl\n",
            "364MB [00:06, 54.4MB/s]\n"
          ],
          "name": "stdout"
        }
      ]
    },
    {
      "cell_type": "code",
      "metadata": {
        "id": "yOZbzDua5_-F",
        "colab_type": "code",
        "colab": {
          "base_uri": "https://localhost:8080/",
          "height": 124
        },
        "outputId": "7d37fc7b-e86b-4f98-c584-9d63073730ae"
      },
      "source": [
        "!pip install ninja"
      ],
      "execution_count": 15,
      "outputs": [
        {
          "output_type": "stream",
          "text": [
            "Collecting ninja\n",
            "\u001b[?25l  Downloading https://files.pythonhosted.org/packages/f6/27/41b8a846496451ea9f103bf8e1d0d1b010d1180c30d84a87433ec5d7f88e/ninja-1.10.0.post1-py3-none-manylinux1_x86_64.whl (102kB)\n",
            "\r\u001b[K     |███▏                            | 10kB 17.5MB/s eta 0:00:01\r\u001b[K     |██████▍                         | 20kB 2.2MB/s eta 0:00:01\r\u001b[K     |█████████▌                      | 30kB 2.8MB/s eta 0:00:01\r\u001b[K     |████████████▊                   | 40kB 3.1MB/s eta 0:00:01\r\u001b[K     |████████████████                | 51kB 2.5MB/s eta 0:00:01\r\u001b[K     |███████████████████             | 61kB 2.8MB/s eta 0:00:01\r\u001b[K     |██████████████████████▎         | 71kB 3.1MB/s eta 0:00:01\r\u001b[K     |█████████████████████████▌      | 81kB 3.4MB/s eta 0:00:01\r\u001b[K     |████████████████████████████▋   | 92kB 3.6MB/s eta 0:00:01\r\u001b[K     |███████████████████████████████▉| 102kB 3.5MB/s eta 0:00:01\r\u001b[K     |████████████████████████████████| 112kB 3.5MB/s \n",
            "\u001b[?25hInstalling collected packages: ninja\n",
            "Successfully installed ninja-1.10.0.post1\n"
          ],
          "name": "stdout"
        }
      ]
    },
    {
      "cell_type": "code",
      "metadata": {
        "id": "BYgFBAVV32SB",
        "colab_type": "code",
        "colab": {
          "base_uri": "https://localhost:8080/",
          "height": 86
        },
        "outputId": "69fcb552-2bc8-4992-d635-d984e490f49b"
      },
      "source": [
        "%tensorflow_version 1.x\n",
        "%cd /content/Fusion-Vision/\n",
        "# !python convert_weight.py --repo /content/stylegan2 /content/stylegan2-ffhq-config-f.pkl\n",
        "!python convert_weight.py --repo /content/stylegan2 /content/abstract-art.pkl"
      ],
      "execution_count": 25,
      "outputs": [
        {
          "output_type": "stream",
          "text": [
            "/content/Fusion-Vision\n",
            "Setting up TensorFlow plugin \"fused_bias_act.cu\": Preprocessing... Loading... Done.\n",
            "Setting up TensorFlow plugin \"upfirdn_2d.cu\": Preprocessing... Loading... Done.\n",
            "tensor(0.0001, device='cuda:0')\n"
          ],
          "name": "stdout"
        }
      ]
    },
    {
      "cell_type": "code",
      "metadata": {
        "id": "0vEVwEzb4MBD",
        "colab_type": "code",
        "colab": {}
      },
      "source": [
        ""
      ],
      "execution_count": null,
      "outputs": []
    }
  ]
}